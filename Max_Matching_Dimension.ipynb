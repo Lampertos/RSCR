{
 "cells": [
  {
   "cell_type": "code",
   "execution_count": 1,
   "id": "c1a72a10",
   "metadata": {},
   "outputs": [],
   "source": [
    "from numpy.linalg import svd, norm\n",
    "from scipy.optimize import minimize, NonlinearConstraint\n",
    "from scipy.optimize import differential_evolution\n",
    "from tqdm import tqdm \n"
   ]
  },
  {
   "cell_type": "code",
   "execution_count": 2,
   "id": "affecting-single",
   "metadata": {},
   "outputs": [],
   "source": [
    "import numpy as np\n",
    "from scipy.stats import ortho_group, unitary_group\n",
    "import matplotlib.pyplot as plt\n",
    "from scipy.linalg import schur, eigvals\n",
    "from scipy.linalg import block_diag\n",
    "from numpy import linalg as LA\n",
    "import math\n",
    "import time"
   ]
  },
  {
   "cell_type": "code",
   "execution_count": 3,
   "id": "fitted-lindsay",
   "metadata": {},
   "outputs": [],
   "source": [
    "from numpy import linalg\n",
    "from scipy.linalg import block_diag\n",
    "from scipy.spatial.transform import Rotation as R\n",
    "from module.unitary_dilation import dilation, check_if_can_dilate\n",
    "from scipy.linalg import sqrtm\n"
   ]
  },
  {
   "cell_type": "code",
   "execution_count": 4,
   "id": "objective-thesaurus",
   "metadata": {},
   "outputs": [],
   "source": [
    "from module._rc_operations import cycle\n",
    "from module.util import check_orthogonal, spec_radius, rot_angles\n",
    "from module.orthogonal_equiv import ortho_xform\n",
    "from module.perfect_match_graph import approximateTu"
   ]
  },
  {
   "cell_type": "code",
   "execution_count": 5,
   "id": "f9514b25",
   "metadata": {},
   "outputs": [],
   "source": [
    "ndim_max_times = 8\n",
    "ndim_min = 20\n",
    "\n",
    "randomize_num = 10"
   ]
  },
  {
   "cell_type": "code",
   "execution_count": 6,
   "id": "2af09510",
   "metadata": {},
   "outputs": [],
   "source": [
    "ndim_list = np.linspace(ndim_min, ndim_max_times * ndim_min, num=ndim_max_times, dtype=int)"
   ]
  },
  {
   "cell_type": "code",
   "execution_count": 7,
   "id": "36beb5fd",
   "metadata": {},
   "outputs": [],
   "source": [
    "Full_n1_list = []\n",
    "Full_cdim_list = []"
   ]
  },
  {
   "cell_type": "code",
   "execution_count": 8,
   "id": "01aed3e9",
   "metadata": {},
   "outputs": [
    {
     "name": "stderr",
     "output_type": "stream",
     "text": [
      "100%|███████████████████████████████████████████████████████████████████████████████████████████████████████████████████████████| 8/8 [00:00<00:00, 115704.94it/s]"
     ]
    },
    {
     "name": "stdout",
     "output_type": "stream",
     "text": [
      "20\n",
      "40\n",
      "60\n",
      "80\n",
      "100\n",
      "120\n",
      "140\n",
      "160\n"
     ]
    },
    {
     "name": "stderr",
     "output_type": "stream",
     "text": [
      "\n"
     ]
    }
   ],
   "source": [
    "for ndim in tqdm(ndim_list):\n",
    "    print(ndim)"
   ]
  },
  {
   "cell_type": "code",
   "execution_count": 9,
   "id": "acceptable-melbourne",
   "metadata": {},
   "outputs": [
    {
     "name": "stderr",
     "output_type": "stream",
     "text": [
      "100%|███████████████████████████████████████████████████████████████████████████████████████████████████████████████████████████████| 8/8 [01:29<00:00, 11.20s/it]\n"
     ]
    }
   ],
   "source": [
    "for ndim in tqdm(ndim_list):\n",
    "    \n",
    "    local_n1 = np.zeros(randomize_num)\n",
    "    local_cdim = np.zeros(randomize_num)\n",
    "    \n",
    "    for k in range(randomize_num):\n",
    "\n",
    "        U = ortho_group.rvs(ndim)\n",
    "\n",
    "        Tu, Ju = schur(U/spec_radius(U), output = 'real')\n",
    "\n",
    "        T_approx = approximateTu(Tu/spec_radius(Tu), epsilon = 0.01, n1_flag = True)\n",
    "\n",
    "        if T_approx[1].shape[0] > 0:\n",
    "            T_full = block_diag(*[T_approx[0], T_approx[1]])\n",
    "        else:\n",
    "            T_full = T_approx[0]\n",
    "\n",
    "        dim_cyc = T_full.shape[0]\n",
    "        C = cycle(dim_cyc, spectral_radius = 1)\n",
    "\n",
    "        Tc, Jc = schur(C, output='real')\n",
    "        assert np.allclose(Jc @ Tc @ Jc.T, C)\n",
    "\n",
    "        #A_values, A_vectors = np.linalg.eig(Ta)\n",
    "        #C_values, C_vectors = np.linalg.eig(Tc)\n",
    "\n",
    "        #assert np.allclose(np.sort(A_values), np.sort(C_values))\n",
    "\n",
    "        # Find orthogonal transform:\n",
    "        P_bar = ortho_xform(T_full,Tc)\n",
    "\n",
    "        #         print('P orthogonal?')\n",
    "        assert check_orthogonal(Jc)\n",
    "        assert check_orthogonal(P_bar)\n",
    "        assert np.allclose(P_bar @ T_full @ P_bar.T, Tc)\n",
    "        \n",
    "        local_n1[k] = T_approx[-1]\n",
    "        local_cdim[k] = C.shape[0]\n",
    "    \n",
    "    Full_n1_list.append(local_n1)\n",
    "    Full_cdim_list.append(local_cdim)"
   ]
  },
  {
   "cell_type": "code",
   "execution_count": 10,
   "id": "e6fd1e31",
   "metadata": {},
   "outputs": [
    {
     "data": {
      "text/plain": [
       "array([101159., 101159., 101159., 101159., 101159., 101159., 101159.,\n",
       "       101159., 101159., 101159.])"
      ]
     },
     "execution_count": 10,
     "metadata": {},
     "output_type": "execute_result"
    }
   ],
   "source": [
    "local_n1"
   ]
  },
  {
   "cell_type": "code",
   "execution_count": 11,
   "id": "c1635a01",
   "metadata": {},
   "outputs": [
    {
     "data": {
      "text/plain": [
       "[array([13195., 13195., 13195., 13195., 13195., 13195., 13195., 13195.,\n",
       "        13195., 13195.]),\n",
       " array([25761., 25761., 25761., 25761., 25761., 25761., 25761., 25761.,\n",
       "        25761., 25761.]),\n",
       " array([38328., 38328., 38328., 38328., 38328., 38328., 38328., 38328.,\n",
       "        38328., 38328.]),\n",
       " array([50894., 50894., 50894., 50894., 50894., 50894., 50894., 50894.,\n",
       "        50894., 50894.]),\n",
       " array([63460., 63460., 63460., 63460., 63460., 63460., 63460., 63460.,\n",
       "        63460., 63460.]),\n",
       " array([76027., 76027., 76027., 76027., 76027., 76027., 76027., 76027.,\n",
       "        76027., 76027.]),\n",
       " array([88593., 88593., 88593., 88593., 88593., 88593., 88593., 88593.,\n",
       "        88593., 88593.]),\n",
       " array([101159., 101159., 101159., 101159., 101159., 101159., 101159.,\n",
       "        101159., 101159., 101159.])]"
      ]
     },
     "execution_count": 11,
     "metadata": {},
     "output_type": "execute_result"
    }
   ],
   "source": [
    "Full_n1_list"
   ]
  },
  {
   "cell_type": "code",
   "execution_count": 12,
   "id": "cba944bf",
   "metadata": {},
   "outputs": [],
   "source": [
    "Full_n1_list = np.array(Full_n1_list)"
   ]
  },
  {
   "cell_type": "code",
   "execution_count": 13,
   "id": "5146d171",
   "metadata": {},
   "outputs": [
    {
     "data": {
      "text/plain": [
       "(8, 10)"
      ]
     },
     "execution_count": 13,
     "metadata": {},
     "output_type": "execute_result"
    }
   ],
   "source": [
    "np.array(Full_n1_list).shape"
   ]
  },
  {
   "cell_type": "code",
   "execution_count": 16,
   "id": "af413bcb",
   "metadata": {},
   "outputs": [
    {
     "data": {
      "text/plain": [
       "[array([288., 228., 226., 296., 218., 222., 226., 236., 234., 154.]),\n",
       " array([278., 254., 292., 296., 270., 328., 284., 294., 278., 280.]),\n",
       " array([294., 300., 310., 292., 300., 280., 316., 306., 298., 292.]),\n",
       " array([306., 318., 420., 294., 630., 630., 378., 294., 300., 296.]),\n",
       " array([310., 630., 314., 300., 312., 630., 304., 302., 310., 630.]),\n",
       " array([314., 630., 314., 300., 306., 310., 418., 630., 308., 300.]),\n",
       " array([354., 310., 308., 328., 332., 332., 314., 392., 394., 314.]),\n",
       " array([630., 318., 630., 346., 322., 630., 332., 328., 404., 320.])]"
      ]
     },
     "execution_count": 16,
     "metadata": {},
     "output_type": "execute_result"
    }
   ],
   "source": [
    "Full_cdim_list"
   ]
  },
  {
   "cell_type": "code",
   "execution_count": 17,
   "id": "5267f5f9",
   "metadata": {},
   "outputs": [
    {
     "data": {
      "image/png": "[encoded data removed]",
      "text/plain": [
       "<Figure size 1000x600 with 1 Axes>"
      ]
     },
     "metadata": {},
     "output_type": "display_data"
    }
   ],
   "source": [
    "data = np.transpose(Full_n1_list)\n",
    "time_steps = ndim_list\n",
    "\n",
    "means = np.mean(data, axis=0)\n",
    "sem = np.std(data, axis=0) / np.sqrt(data.shape[0])\n",
    "\n",
    "# time_steps = np.arange(data.shape[1])\n",
    "\n",
    "# Plotting\n",
    "plt.figure(figsize=(10, 6))\n",
    "plt.plot(time_steps, means, marker='o', linestyle='-', color='r', label='Theoretical upperbound $n_1$')\n",
    "# plt.fill_between(time_steps, np.maximum(np.zeros_like(means), means - 1.96 * sem), means + 1.96 * sem, color='b', alpha=0.2, label='95% CI')\n",
    "\n",
    "\n",
    "data = np.transpose(Full_cdim_list)\n",
    "time_steps = ndim_list\n",
    "\n",
    "means = np.mean(data, axis=0)\n",
    "sem = np.std(data, axis=0) / np.sqrt(data.shape[0])\n",
    "\n",
    "# time_steps = np.arange(data.shape[1])\n",
    "\n",
    "# Plotting\n",
    "plt.plot(time_steps, means, marker='o', linestyle='-', color='b', label='Mean of $n_C$')\n",
    "plt.fill_between(time_steps, np.maximum(np.zeros_like(means), means - 1.96 * sem), means + 1.96 * sem, color='b', alpha=0.2, label='95% CI of $n_C$')\n",
    "\n",
    "\n",
    "plt.xlabel('Initial Dimension of $U$', fontsize = 20)\n",
    "plt.ylabel('Dilation dimension (log scale)' , fontsize = 20)\n",
    "plt.yscale('log')\n",
    "plt.title('Comparing theoretical upperbound and dimension obtained maximum matching')\n",
    "plt.legend(loc = \"best\")\n",
    "plt.grid(True)\n",
    "\n",
    "plt.savefig('./results/MMBPvsUpper.pdf')\n",
    "plt.show()\n",
    "\n",
    "\n"
   ]
  }
 ],
 "metadata": {
  "kernelspec": {
   "display_name": "Python 3 (ipykernel)",
   "language": "python",
   "name": "python3"
  },
  "language_info": {
   "codemirror_mode": {
    "name": "ipython",
    "version": 3
   },
   "file_extension": ".py",
   "mimetype": "text/x-python",
   "name": "python",
   "nbconvert_exporter": "python",
   "pygments_lexer": "ipython3",
   "version": "3.11.5"
  }
 },
 "nbformat": 4,
 "nbformat_minor": 5
}
