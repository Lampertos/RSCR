{
 "cells": [
  {
   "cell_type": "code",
   "execution_count": 1,
   "id": "c1a72a10",
   "metadata": {},
   "outputs": [],
   "source": [
    "from numpy.linalg import svd, norm\n",
    "from scipy.optimize import minimize, NonlinearConstraint\n",
    "from scipy.optimize import differential_evolution\n",
    "from tqdm import tqdm \n"
   ]
  },
  {
   "cell_type": "code",
   "execution_count": 2,
   "id": "affecting-single",
   "metadata": {},
   "outputs": [],
   "source": [
    "import numpy as np\n",
    "from scipy.stats import ortho_group, unitary_group\n",
    "import matplotlib.pyplot as plt\n",
    "from scipy.linalg import schur, eigvals\n",
    "from scipy.linalg import block_diag\n",
    "from numpy import linalg as LA\n",
    "import math\n",
    "import time"
   ]
  },
  {
   "cell_type": "code",
   "execution_count": 3,
   "id": "fitted-lindsay",
   "metadata": {},
   "outputs": [],
   "source": [
    "from numpy import linalg\n",
    "from scipy.linalg import block_diag\n",
    "from scipy.spatial.transform import Rotation as R\n",
    "from module.unitary_dilation import dilation, check_if_can_dilate\n",
    "from scipy.linalg import sqrtm\n"
   ]
  },
  {
   "cell_type": "code",
   "execution_count": 4,
   "id": "objective-thesaurus",
   "metadata": {},
   "outputs": [],
   "source": [
    "from module._rc_operations import cycle\n",
    "from module.util import check_orthogonal, spec_radius, rot_angles\n",
    "from module.orthogonal_equiv import ortho_xform\n",
    "from module.perfect_match_graph import approximateTu"
   ]
  },
  {
   "cell_type": "code",
   "execution_count": 5,
   "id": "46062144",
   "metadata": {},
   "outputs": [],
   "source": [
    "ndim_max_times = 6\n",
    "ndim_min = 10\n",
    "\n",
    "randomize_num = 5"
   ]
  },
  {
   "cell_type": "code",
   "execution_count": 6,
   "id": "2af09510",
   "metadata": {},
   "outputs": [],
   "source": [
    "ndim_list = np.linspace(ndim_min, ndim_max_times * ndim_min, num=ndim_max_times, dtype=int)"
   ]
  },
  {
   "cell_type": "code",
   "execution_count": 7,
   "id": "cb6280f3",
   "metadata": {},
   "outputs": [],
   "source": [
    "Full_n1_list = []\n",
    "Full_cdim_list = []"
   ]
  },
  {
   "cell_type": "code",
   "execution_count": 8,
   "id": "dca79cd6",
   "metadata": {},
   "outputs": [
    {
     "name": "stderr",
     "output_type": "stream",
     "text": [
      "100%|███████████████████████████████████████████████████████████████████████████████████████████████████████████████████████████| 6/6 [00:00<00:00, 101885.93it/s]"
     ]
    },
    {
     "name": "stdout",
     "output_type": "stream",
     "text": [
      "10\n",
      "20\n",
      "30\n",
      "40\n",
      "50\n",
      "60\n"
     ]
    },
    {
     "name": "stderr",
     "output_type": "stream",
     "text": [
      "\n"
     ]
    }
   ],
   "source": [
    "for ndim in tqdm(ndim_list):\n",
    "    print(ndim)"
   ]
  },
  {
   "cell_type": "code",
   "execution_count": 9,
   "id": "acceptable-melbourne",
   "metadata": {},
   "outputs": [
    {
     "name": "stderr",
     "output_type": "stream",
     "text": [
      "100%|███████████████████████████████████████████████████████████████████████████████████████████████████████████████████████████████| 6/6 [00:27<00:00,  4.61s/it]\n"
     ]
    }
   ],
   "source": [
    "for ndim in tqdm(ndim_list):\n",
    "    \n",
    "    local_n1 = np.zeros(randomize_num)\n",
    "    local_cdim = np.zeros(randomize_num)\n",
    "    \n",
    "    for k in range(randomize_num):\n",
    "\n",
    "        U = ortho_group.rvs(ndim)\n",
    "\n",
    "        Tu, Ju = schur(U/spec_radius(U), output = 'real')\n",
    "\n",
    "        T_approx = approximateTu(Tu/spec_radius(Tu), epsilon = 0.01, n1_flag = True)\n",
    "\n",
    "        if T_approx[1].shape[0] > 0:\n",
    "            T_full = block_diag(*[T_approx[0], T_approx[1]])\n",
    "        else:\n",
    "            T_full = T_approx[0]\n",
    "\n",
    "        dim_cyc = T_full.shape[0]\n",
    "        C = cycle(dim_cyc, spectral_radius = 1)\n",
    "\n",
    "        Tc, Jc = schur(C, output='real')\n",
    "        assert np.allclose(Jc @ Tc @ Jc.T, C)\n",
    "\n",
    "        #A_values, A_vectors = np.linalg.eig(Ta)\n",
    "        #C_values, C_vectors = np.linalg.eig(Tc)\n",
    "\n",
    "        #assert np.allclose(np.sort(A_values), np.sort(C_values))\n",
    "\n",
    "        # Find orthogonal transform:\n",
    "        P_bar = ortho_xform(T_full,Tc)\n",
    "\n",
    "        #         print('P orthogonal?')\n",
    "        assert check_orthogonal(Jc)\n",
    "        assert check_orthogonal(P_bar)\n",
    "        assert np.allclose(P_bar @ T_full @ P_bar.T, Tc)\n",
    "        \n",
    "        local_n1[k] = T_approx[-1]\n",
    "        local_cdim[k] = C.shape[0]\n",
    "    \n",
    "    Full_n1_list.append(local_n1)\n",
    "    Full_cdim_list.append(local_cdim)"
   ]
  },
  {
   "cell_type": "code",
   "execution_count": 10,
   "id": "843e8339",
   "metadata": {},
   "outputs": [
    {
     "data": {
      "text/plain": [
       "array([38328., 38328., 38328., 38328., 38328.])"
      ]
     },
     "execution_count": 10,
     "metadata": {},
     "output_type": "execute_result"
    }
   ],
   "source": [
    "local_n1"
   ]
  },
  {
   "cell_type": "code",
   "execution_count": 11,
   "id": "99e9bfa0",
   "metadata": {},
   "outputs": [
    {
     "data": {
      "text/plain": [
       "[array([6912., 6912., 6912., 6912., 6912.]),\n",
       " array([13195., 13195., 13195., 13195., 13195.]),\n",
       " array([19478., 19478., 19478., 19478., 19478.]),\n",
       " array([25761., 25761., 25761., 25761., 25761.]),\n",
       " array([32045., 32045., 32045., 32045., 32045.]),\n",
       " array([38328., 38328., 38328., 38328., 38328.])]"
      ]
     },
     "execution_count": 11,
     "metadata": {},
     "output_type": "execute_result"
    }
   ],
   "source": [
    "Full_n1_list"
   ]
  },
  {
   "cell_type": "code",
   "execution_count": 12,
   "id": "cba944bf",
   "metadata": {},
   "outputs": [],
   "source": [
    "Full_n1_list = np.array(Full_n1_list)"
   ]
  },
  {
   "cell_type": "code",
   "execution_count": 13,
   "id": "54161c75",
   "metadata": {},
   "outputs": [
    {
     "data": {
      "text/plain": [
       "(6, 5)"
      ]
     },
     "execution_count": 13,
     "metadata": {},
     "output_type": "execute_result"
    }
   ],
   "source": [
    "np.array(Full_n1_list).shape"
   ]
  },
  {
   "cell_type": "code",
   "execution_count": 16,
   "id": "673c69ba",
   "metadata": {},
   "outputs": [
    {
     "data": {
      "text/plain": [
       "array([0., 0., 0., 0., 0., 0.])"
      ]
     },
     "execution_count": 16,
     "metadata": {},
     "output_type": "execute_result"
    }
   ],
   "source": [
    "sem"
   ]
  },
  {
   "cell_type": "code",
   "execution_count": 30,
   "id": "788404a6",
   "metadata": {},
   "outputs": [
    {
     "data": {
      "image/png": "[encoded data removed]",
      "text/plain": [
       "<Figure size 1000x600 with 1 Axes>"
      ]
     },
     "metadata": {},
     "output_type": "display_data"
    }
   ],
   "source": [
    "data = np.transpose(Full_n1_list)\n",
    "time_steps = ndim_list\n",
    "\n",
    "means = np.mean(data, axis=0)\n",
    "sem = np.std(data, axis=0) / np.sqrt(data.shape[0])\n",
    "\n",
    "# time_steps = np.arange(data.shape[1])\n",
    "\n",
    "# Plotting\n",
    "plt.figure(figsize=(10, 6))\n",
    "plt.plot(time_steps, means, marker='o', linestyle='-', color='r', label='Theoretical upperbound $n_1$')\n",
    "# plt.fill_between(time_steps, np.maximum(np.zeros_like(means), means - 1.96 * sem), means + 1.96 * sem, color='b', alpha=0.2, label='95% CI')\n",
    "\n",
    "\n",
    "data = np.transpose(Full_cdim_list)\n",
    "time_steps = ndim_list\n",
    "\n",
    "means = np.mean(data, axis=0)\n",
    "sem = np.std(data, axis=0) / np.sqrt(data.shape[0])\n",
    "\n",
    "# time_steps = np.arange(data.shape[1])\n",
    "\n",
    "# Plotting\n",
    "plt.plot(time_steps, means, marker='o', linestyle='-', color='b', label='Mean of $n_C$')\n",
    "plt.fill_between(time_steps, np.maximum(np.zeros_like(means), means - 1.96 * sem), means + 1.96 * sem, color='b', alpha=0.2, label='95% CI of $n_C$')\n",
    "\n",
    "\n",
    "plt.xlabel('Initial Dimension of $U$')\n",
    "plt.ylabel('Dilation dimension (log scale)')\n",
    "plt.yscale('log')\n",
    "plt.title('Comparing theoretical upperbound and dimension obtained maximum matching')\n",
    "plt.legend()\n",
    "plt.grid(True)\n",
    "\n",
    "plt.savefig('./results/Y_norm.pdf')\n",
    "plt.show()\n",
    "\n",
    "\n"
   ]
  },
  {
   "cell_type": "code",
   "execution_count": null,
   "id": "b09a5b77",
   "metadata": {},
   "outputs": [],
   "source": [
    "np.pi * 2 * (len(Tu)+1) / np.arccos(1 - (0.01 ** 2) / 2) "
   ]
  }
 ],
 "metadata": {
  "kernelspec": {
   "display_name": "Python 3 (ipykernel)",
   "language": "python",
   "name": "python3"
  },
  "language_info": {
   "codemirror_mode": {
    "name": "ipython",
    "version": 3
   },
   "file_extension": ".py",
   "mimetype": "text/x-python",
   "name": "python",
   "nbconvert_exporter": "python",
   "pygments_lexer": "ipython3",
   "version": "3.11.5"
  }
 },
 "nbformat": 4,
 "nbformat_minor": 5
}
